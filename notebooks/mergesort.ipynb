{
 "cells": [
  {
   "cell_type": "code",
   "execution_count": 13,
   "metadata": {},
   "outputs": [],
   "source": [
    "import numpy as np\n",
    "\n",
    "def mergesort(alist):\n",
    "    buffer = [None] * len(alist)\n",
    "    return mergesort_helper(alist, buffer, 0, len(alist)-1 )\n",
    "    \n",
    "    \n",
    "def mergesort_helper(alist, buffer, low, high):\n",
    "    \n",
    "    if low < high:\n",
    "        middle = (low + high) // 2\n",
    "        mergesort_helper(alist, buffer, low, middle)\n",
    "        mergesort_helper(alist, buffer, middle+1, high)\n",
    "        merge(alist, buffer, low, middle, high)\n",
    "    return alist\n",
    "\n",
    "def merge(alist, buffer, low, middle, high):\n",
    "    for i in range(low, high + 1):\n",
    "        buffer[i] = alist[i]\n",
    "    \n",
    "    buffer_left = low\n",
    "    buffer_right = middle+1\n",
    "    current = low\n",
    "    \n",
    "    while buffer_left <= middle and buffer_right <= high:\n",
    "        if buffer[buffer_left] <= buffer[buffer_right]:\n",
    "            alist[current] = buffer[buffer_left]\n",
    "            buffer_left += 1\n",
    "        else:\n",
    "            alist[current] = buffer[buffer_right]\n",
    "            buffer_right += 1\n",
    "        current += 1\n",
    "        \n",
    "        #copy rest of the lest side of the arra to the target array\n",
    "        \n",
    "        remaining = middle - buffer_left\n",
    "        for i in range(0, remaining+1):\n",
    "            alist[current + i] = buffer[buffer_left+i]"
   ]
  },
  {
   "cell_type": "code",
   "execution_count": 14,
   "metadata": {},
   "outputs": [
    {
     "name": "stdout",
     "output_type": "stream",
     "text": [
      "[32  2  6 20  4 30 49]\n",
      "[ 2  4  6 20 30 32 49]\n",
      "[23 16 10 33 25 13 19]\n",
      "[10 13 16 19 23 25 33]\n",
      "[39  1 22 22 40 39 47]\n",
      "[ 1 22 22 39 39 40 47]\n",
      "[33 42 36 14  6  3 15]\n",
      "[ 3  6 14 15 33 36 42]\n",
      "[36 26 49  4 31 19 48]\n",
      "[ 4 19 26 31 36 48 49]\n"
     ]
    }
   ],
   "source": [
    "for i in range(5):\n",
    "    rnd = np.random.randint(1,50,7)\n",
    "    unsorted = rnd.copy()\n",
    "    rnd.sort()\n",
    "    print (unsorted)\n",
    "    print(mergesort(unsorted))\n",
    "    assert rnd.all() == mergesort(unsorted).all()\n",
    "    "
   ]
  },
  {
   "cell_type": "code",
   "execution_count": null,
   "metadata": {},
   "outputs": [],
   "source": []
  }
 ],
 "metadata": {
  "kernelspec": {
   "display_name": "Python 3",
   "language": "python",
   "name": "python3"
  },
  "language_info": {
   "codemirror_mode": {
    "name": "ipython",
    "version": 3
   },
   "file_extension": ".py",
   "mimetype": "text/x-python",
   "name": "python",
   "nbconvert_exporter": "python",
   "pygments_lexer": "ipython3",
   "version": "3.6.7"
  }
 },
 "nbformat": 4,
 "nbformat_minor": 2
}
