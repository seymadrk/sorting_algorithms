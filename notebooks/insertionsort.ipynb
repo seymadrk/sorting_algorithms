{
 "cells": [
  {
   "cell_type": "code",
   "execution_count": 40,
   "metadata": {},
   "outputs": [],
   "source": [
    "import numpy as np\n",
    "def insertion_sort(alist):\n",
    "    for i in range(0, len(alist)):\n",
    "        j = i-1\n",
    "        while alist[j+1] < alist[j] and j>=0:\n",
    "            alist[j], alist[j+1] = alist[j+1], alist[j]\n",
    "            j = j - 1\n",
    "    return alist\n",
    "        \n",
    "                \n",
    "            \n",
    "        "
   ]
  },
  {
   "cell_type": "code",
   "execution_count": 38,
   "metadata": {},
   "outputs": [
    {
     "data": {
      "text/plain": [
       "[1, 3, 4, 5, 93]"
      ]
     },
     "execution_count": 38,
     "metadata": {},
     "output_type": "execute_result"
    }
   ],
   "source": [
    "insertion_sort([3,5,93,1,4])"
   ]
  },
  {
   "cell_type": "code",
   "execution_count": 39,
   "metadata": {},
   "outputs": [],
   "source": [
    "assert [1, 3, 8, 10] == insertion_sort([8,3,10,1])"
   ]
  },
  {
   "cell_type": "code",
   "execution_count": 89,
   "metadata": {},
   "outputs": [
    {
     "name": "stdout",
     "output_type": "stream",
     "text": [
      "[45 32 43 24 35 13 47 24 10 46  1 38 47  7]\n",
      "[28 35 35 26 10 11 28 42 15 30 43  5 49 31]\n",
      "[37 40 11  8 17 29 31 21 46 12 13 23 47  4]\n",
      "[42 26 33 23 17 26 12 21 11 45 23 27 14  3]\n",
      "[11 26 42 22 11 13  2 35 11 32 49 45 21 26]\n"
     ]
    }
   ],
   "source": [
    "for i in range(5):\n",
    "    rnd = np.random.randint(1,50,14)\n",
    "    unsorted = rnd.copy()\n",
    "    rnd.sort()\n",
    "    print unsorted\n",
    "    assert rnd.all() == insertion_sort(unsorted).all()\n",
    "    #print insertion_sort(unsorted), unsorted\n",
    "    "
   ]
  },
  {
   "cell_type": "code",
   "execution_count": 83,
   "metadata": {},
   "outputs": [],
   "source": [
    "rnd = np.random.randint(1,10,4)"
   ]
  },
  {
   "cell_type": "code",
   "execution_count": 75,
   "metadata": {},
   "outputs": [
    {
     "name": "stdout",
     "output_type": "stream",
     "text": [
      "The slowest run took 10.13 times longer than the fastest. This could mean that an intermediate result is being cached.\n",
      "1000000 loops, best of 3: 1.82 µs per loop\n"
     ]
    }
   ],
   "source": [
    "%timeit insertion_sort(rnd)"
   ]
  },
  {
   "cell_type": "code",
   "execution_count": null,
   "metadata": {
    "collapsed": true
   },
   "outputs": [],
   "source": []
  }
 ],
 "metadata": {
  "kernelspec": {
   "display_name": "Python 3",
   "language": "python",
   "name": "python3"
  },
  "language_info": {
   "codemirror_mode": {
    "name": "ipython",
    "version": 3
   },
   "file_extension": ".py",
   "mimetype": "text/x-python",
   "name": "python",
   "nbconvert_exporter": "python",
   "pygments_lexer": "ipython3",
   "version": "3.5.2"
  }
 },
 "nbformat": 4,
 "nbformat_minor": 2
}
