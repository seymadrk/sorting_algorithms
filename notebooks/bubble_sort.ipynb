{
 "cells": [
  {
   "cell_type": "code",
   "execution_count": 1,
   "metadata": {},
   "outputs": [],
   "source": [
    "import numpy as np\n",
    "\n",
    "def bubble_sort(A):\n",
    "    swap = True\n",
    "    \n",
    "    while swap:\n",
    "        swap = False\n",
    "        for i in range(len(A)-1):\n",
    "            \n",
    "            if A[i+1] < A[i]:\n",
    "                A[i], A[i+1] = A[i+1], A[i]\n",
    "                swap = True\n",
    "    return A  "
   ]
  },
  {
   "cell_type": "code",
   "execution_count": 5,
   "metadata": {},
   "outputs": [
    {
     "name": "stdout",
     "output_type": "stream",
     "text": [
      "[16 41  4 23 34 43  5 14 10 17 15 16 49 39] [ 4  5 10 14 15 16 16 17 23 34 39 41 43 49]\n",
      "[15 42 21 48 14 37  8 14 42 22 40 25  9 10] [ 8  9 10 14 14 15 21 22 25 37 40 42 42 48]\n",
      "[34 29  3  6 33 38  5 25  2 46 36 38  6 21] [ 2  3  5  6  6 21 25 29 33 34 36 38 38 46]\n",
      "[31 49 32 47 36 34  2 20 26 46  6  3 17 31] [ 2  3  6 17 20 26 31 31 32 34 36 46 47 49]\n",
      "[41  3 12 40 36 29 16  5 31 39 45 35 18 43] [ 3  5 12 16 18 29 31 35 36 39 40 41 43 45]\n"
     ]
    }
   ],
   "source": [
    "for i in range(5):\n",
    "    rnd = np.random.randint(1,50,14)\n",
    "    unsorted = rnd.copy()\n",
    "    u2 = unsorted.copy()\n",
    "    rnd.sort()\n",
    "    \n",
    "    sorted_array = bubble_sort(unsorted)\n",
    "    assert rnd.all() == sorted_array.all()\n",
    "    print (u2, sorted_array)"
   ]
  },
  {
   "cell_type": "code",
   "execution_count": 10,
   "metadata": {},
   "outputs": [
    {
     "name": "stdout",
     "output_type": "stream",
     "text": [
      "[ 2  5 16 17 30 30 32 32 32 40 43 44 45 49]\n"
     ]
    }
   ],
   "source": [
    "print bubble_sort(unsorted)"
   ]
  },
  {
   "cell_type": "code",
   "execution_count": null,
   "metadata": {
    "collapsed": true
   },
   "outputs": [],
   "source": []
  }
 ],
 "metadata": {
  "kernelspec": {
   "display_name": "Python 3",
   "language": "python",
   "name": "python3"
  },
  "language_info": {
   "codemirror_mode": {
    "name": "ipython",
    "version": 3
   },
   "file_extension": ".py",
   "mimetype": "text/x-python",
   "name": "python",
   "nbconvert_exporter": "python",
   "pygments_lexer": "ipython3",
   "version": "3.6.7"
  }
 },
 "nbformat": 4,
 "nbformat_minor": 2
}
