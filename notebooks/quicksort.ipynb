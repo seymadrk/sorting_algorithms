{
 "cells": [
  {
   "cell_type": "code",
   "execution_count": 55,
   "metadata": {},
   "outputs": [],
   "source": [
    "import numpy as np\n",
    "\n",
    "def quicksort(alist):\n",
    "    return quicksort_helper(alist, 0, len(alist)-1)\n",
    "\n",
    "def quicksort_helper(alist, left, right):\n",
    "    #print(\"list: {}, left: {}, right: {}\".format(alist, left, right))\n",
    "    idx = partition(alist, left, right)\n",
    "    \n",
    "    if left < idx-1:\n",
    "        quicksort_helper(alist, left, idx-1)\n",
    "    if idx < right:\n",
    "        quicksort_helper(alist, idx, right)\n",
    "    return alist\n",
    "    \n",
    "\n",
    "def partition(alist, left, right):\n",
    "    pivot = alist[(left+right)//2]\n",
    "    \n",
    "    while left <= right:\n",
    "        while alist[left] < pivot:\n",
    "            left += 1\n",
    "            \n",
    "        while alist[right] > pivot:\n",
    "            right -= 1\n",
    "        if left <= right:\n",
    "            alist[left], alist[right] = alist[right], alist[left]\n",
    "            left += 1\n",
    "            right -= 1\n",
    "    return left\n",
    "    "
   ]
  },
  {
   "cell_type": "code",
   "execution_count": 56,
   "metadata": {},
   "outputs": [
    {
     "name": "stdout",
     "output_type": "stream",
     "text": [
      "[48 20 36 44 35 49 15]\n",
      "[15 20 35 36 44 48 49]\n",
      "[24 17 44 11 27 26  4]\n",
      "[ 4 11 17 24 26 27 44]\n",
      "[16 26  6  7 48 26 10]\n",
      "[ 6  7 10 16 26 26 48]\n",
      "[25 48 42 28 18  4 35]\n",
      "[ 4 18 25 28 35 42 48]\n",
      "[49  9 33 46  2 34 22]\n",
      "[ 2  9 22 33 34 46 49]\n"
     ]
    }
   ],
   "source": [
    "for i in range(5):\n",
    "    rnd = np.random.randint(1,50,7)\n",
    "    unsorted = rnd.copy()\n",
    "    rnd.sort()\n",
    "    print (unsorted)\n",
    "    print(quicksort(unsorted))\n",
    "    assert rnd.all() == quicksort(unsorted).all()\n",
    "    \n",
    "    "
   ]
  },
  {
   "cell_type": "code",
   "execution_count": null,
   "metadata": {},
   "outputs": [],
   "source": []
  },
  {
   "cell_type": "code",
   "execution_count": null,
   "metadata": {},
   "outputs": [],
   "source": []
  }
 ],
 "metadata": {
  "kernelspec": {
   "display_name": "Python 3",
   "language": "python",
   "name": "python3"
  },
  "language_info": {
   "codemirror_mode": {
    "name": "ipython",
    "version": 3
   },
   "file_extension": ".py",
   "mimetype": "text/x-python",
   "name": "python",
   "nbconvert_exporter": "python",
   "pygments_lexer": "ipython3",
   "version": "3.6.7"
  }
 },
 "nbformat": 4,
 "nbformat_minor": 2
}
