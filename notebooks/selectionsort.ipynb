{
 "cells": [
  {
   "cell_type": "code",
   "execution_count": 58,
   "metadata": {
    "collapsed": true
   },
   "outputs": [],
   "source": [
    "import numpy as np\n",
    "\n",
    "def selection_sort(alist):\n",
    "\n",
    "    for i in range(len(alist)):\n",
    "        min_idx = i\n",
    "        \n",
    "        for j in range(i+1, len(alist)):\n",
    "            if alist[j] < alist[min_idx]:\n",
    "                min_idx = j\n",
    "        alist[i], alist[min_idx] =  alist[min_idx], alist[i]\n",
    "    return alist\n",
    "    "
   ]
  },
  {
   "cell_type": "code",
   "execution_count": 59,
   "metadata": {},
   "outputs": [
    {
     "name": "stdout",
     "output_type": "stream",
     "text": [
      "[46 14 48  9 19 46 17 48  6 33 27 39 19  3]\n",
      "[31 30 22 29 26 28 40  7 16 15 16 17 39 15]\n",
      "[18 47  7 14 45 31  4 44 30 47 25 46  3 22]\n",
      "[22 42 33 13 20 46  3  1 28 37 49  8 40 34]\n",
      "[ 1 10 49 21 18 17 15 39  2 32 27 32 28 34]\n"
     ]
    }
   ],
   "source": [
    "for i in range(5):\n",
    "    rnd = np.random.randint(1,50,14)\n",
    "    unsorted = rnd.copy()\n",
    "    rnd.sort()\n",
    "    print unsorted\n",
    "    assert rnd.all() == selection_sort(unsorted).all()\n",
    "    "
   ]
  },
  {
   "cell_type": "code",
   "execution_count": 65,
   "metadata": {},
   "outputs": [
    {
     "data": {
      "text/plain": [
       "array([ 1,  6,  9, 13, 13, 16, 16, 18])"
      ]
     },
     "execution_count": 65,
     "metadata": {},
     "output_type": "execute_result"
    }
   ],
   "source": [
    "rnd = np.random.randint(1,20,8)\n",
    "selection_sort(rnd)"
   ]
  },
  {
   "cell_type": "code",
   "execution_count": 31,
   "metadata": {},
   "outputs": [
    {
     "name": "stdout",
     "output_type": "stream",
     "text": [
      "The slowest run took 5.50 times longer than the fastest. This could mean that an intermediate result is being cached.\n",
      "100000 loops, best of 3: 4.37 µs per loop\n"
     ]
    }
   ],
   "source": [
    "%timeit selection_sort(rnd)"
   ]
  },
  {
   "cell_type": "code",
   "execution_count": 32,
   "metadata": {},
   "outputs": [
    {
     "data": {
      "text/plain": [
       "array([8, 6, 6, 5])"
      ]
     },
     "execution_count": 32,
     "metadata": {},
     "output_type": "execute_result"
    }
   ],
   "source": []
  },
  {
   "cell_type": "code",
   "execution_count": null,
   "metadata": {
    "collapsed": true
   },
   "outputs": [],
   "source": []
  }
 ],
 "metadata": {
  "kernelspec": {
   "display_name": "Python 3",
   "language": "python",
   "name": "python3"
  },
  "language_info": {
   "codemirror_mode": {
    "name": "ipython",
    "version": 3
   },
   "file_extension": ".py",
   "mimetype": "text/x-python",
   "name": "python",
   "nbconvert_exporter": "python",
   "pygments_lexer": "ipython3",
   "version": "3.5.2"
  }
 },
 "nbformat": 4,
 "nbformat_minor": 2
}
